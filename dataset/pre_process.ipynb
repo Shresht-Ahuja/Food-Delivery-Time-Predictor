{
 "cells": [
  {
   "cell_type": "code",
   "execution_count": 2,
   "id": "ca50234c",
   "metadata": {},
   "outputs": [],
   "source": [
    "import pandas as pd\n",
    "import json\n",
    "\n",
    "with open(\"./India-Food-Delivery-Time-Prediction.txt\", \"r\", encoding=\"utf-8\") as f:\n",
    "    data = json.load(f)\n",
    "\n",
    "df=pd.DataFrame(data)"
   ]
  },
  {
   "cell_type": "code",
   "execution_count": 3,
   "id": "fc0be49d",
   "metadata": {},
   "outputs": [],
   "source": [
    "df.columns = df.columns.str.strip()\n",
    "for col in df.select_dtypes(include='object').columns:\n",
    "    df[col] = df[col].str.strip()\n",
    "\n",
    "df[\"Time_taken(min)\"] = df[\"Time_taken(min)\"].astype(str).str.extract(r\"(\\d+)\")\n",
    "df[\"Time_taken(min)\"] = pd.to_numeric(df[\"Time_taken(min)\"], errors='coerce')\n",
    "\n",
    "df[\"Delivery_person_Age\"] = pd.to_numeric(df[\"Delivery_person_Age\"], errors='coerce')\n",
    "df[\"Delivery_person_Ratings\"] = pd.to_numeric(df[\"Delivery_person_Ratings\"], errors='coerce')\n",
    "\n",
    "df = df.dropna(subset=[\"Time_taken(min)\", \"Delivery_person_Age\", \"Delivery_person_Ratings\"])\n",
    "\n",
    "df[\"Time_taken(min)\"] = df[\"Time_taken(min)\"].astype(int)\n",
    "df[\"Delivery_person_Age\"] = df[\"Delivery_person_Age\"].astype(int)\n",
    "df[\"Delivery_person_Ratings\"] = df[\"Delivery_person_Ratings\"].astype(float)\n"
   ]
  },
  {
   "cell_type": "code",
   "execution_count": 4,
   "id": "e3369f3e",
   "metadata": {},
   "outputs": [],
   "source": [
    "df.to_csv(\"./food_delivery_time.csv\", index=False)"
   ]
  },
  {
   "cell_type": "code",
   "execution_count": 5,
   "id": "2de05d8c",
   "metadata": {},
   "outputs": [
    {
     "name": "stdout",
     "output_type": "stream",
     "text": [
      "<class 'pandas.core.frame.DataFrame'>\n",
      "Index: 40190 entries, 0 to 41952\n",
      "Data columns (total 20 columns):\n",
      " #   Column                       Non-Null Count  Dtype  \n",
      "---  ------                       --------------  -----  \n",
      " 0   ID                           40190 non-null  object \n",
      " 1   Delivery_person_ID           40190 non-null  object \n",
      " 2   Delivery_person_Age          40190 non-null  int64  \n",
      " 3   Delivery_person_Ratings      40190 non-null  float64\n",
      " 4   Restaurant_latitude          40190 non-null  float64\n",
      " 5   Restaurant_longitude         40190 non-null  float64\n",
      " 6   Delivery_location_latitude   40190 non-null  float64\n",
      " 7   Delivery_location_longitude  40190 non-null  float64\n",
      " 8   Order_Date                   40190 non-null  object \n",
      " 9   Time_Orderd                  40109 non-null  object \n",
      " 10  Time_Order_picked            40190 non-null  object \n",
      " 11  Weatherconditions            40190 non-null  object \n",
      " 12  Road_traffic_density         40190 non-null  object \n",
      " 13  Vehicle_condition            40190 non-null  int64  \n",
      " 14  Type_of_order                40190 non-null  object \n",
      " 15  Type_of_vehicle              40190 non-null  object \n",
      " 16  multiple_deliveries          40190 non-null  object \n",
      " 17  Festival                     40190 non-null  object \n",
      " 18  City                         40190 non-null  object \n",
      " 19  Time_taken(min)              40190 non-null  int64  \n",
      "dtypes: float64(5), int64(3), object(12)\n",
      "memory usage: 6.4+ MB\n",
      "None\n"
     ]
    },
    {
     "data": {
      "text/plain": [
       "ID                              0\n",
       "Delivery_person_ID              0\n",
       "Delivery_person_Age             0\n",
       "Delivery_person_Ratings         0\n",
       "Restaurant_latitude             0\n",
       "Restaurant_longitude            0\n",
       "Delivery_location_latitude      0\n",
       "Delivery_location_longitude     0\n",
       "Order_Date                      0\n",
       "Time_Orderd                    81\n",
       "Time_Order_picked               0\n",
       "Weatherconditions               0\n",
       "Road_traffic_density            0\n",
       "Vehicle_condition               0\n",
       "Type_of_order                   0\n",
       "Type_of_vehicle                 0\n",
       "multiple_deliveries             0\n",
       "Festival                        0\n",
       "City                            0\n",
       "Time_taken(min)                 0\n",
       "dtype: int64"
      ]
     },
     "execution_count": 5,
     "metadata": {},
     "output_type": "execute_result"
    }
   ],
   "source": [
    "\n",
    "print(df.info())\n",
    "df.isnull().sum()"
   ]
  },
  {
   "cell_type": "code",
   "execution_count": 6,
   "id": "edef5530",
   "metadata": {},
   "outputs": [
    {
     "data": {
      "text/plain": [
       "ID                             0\n",
       "Delivery_person_ID             0\n",
       "Delivery_person_Age            0\n",
       "Delivery_person_Ratings        0\n",
       "Restaurant_latitude            0\n",
       "Restaurant_longitude           0\n",
       "Delivery_location_latitude     0\n",
       "Delivery_location_longitude    0\n",
       "Order_Date                     0\n",
       "Time_Orderd                    0\n",
       "Time_Order_picked              0\n",
       "Weatherconditions              0\n",
       "Road_traffic_density           0\n",
       "Vehicle_condition              0\n",
       "Type_of_order                  0\n",
       "Type_of_vehicle                0\n",
       "multiple_deliveries            0\n",
       "Festival                       0\n",
       "City                           0\n",
       "Time_taken(min)                0\n",
       "dtype: int64"
      ]
     },
     "execution_count": 6,
     "metadata": {},
     "output_type": "execute_result"
    }
   ],
   "source": [
    "df[\"Time_Orderd\"] = df[\"Time_Orderd\"].fillna(\"00:00:00\")\n",
    "df.isnull().sum()"
   ]
  }
 ],
 "metadata": {
  "kernelspec": {
   "display_name": "Python 3",
   "language": "python",
   "name": "python3"
  },
  "language_info": {
   "codemirror_mode": {
    "name": "ipython",
    "version": 3
   },
   "file_extension": ".py",
   "mimetype": "text/x-python",
   "name": "python",
   "nbconvert_exporter": "python",
   "pygments_lexer": "ipython3",
   "version": "3.13.8"
  }
 },
 "nbformat": 4,
 "nbformat_minor": 5
}
