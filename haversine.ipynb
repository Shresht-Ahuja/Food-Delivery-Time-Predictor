{
 "cells": [
  {
   "cell_type": "code",
   "execution_count": 2,
   "id": "72a4dd76",
   "metadata": {},
   "outputs": [],
   "source": [
    "import numpy as np\n",
    "import pandas as pd\n",
    "\n",
    "data = pd.read_csv(\"./dataset/food_delivery_time.csv\")\n",
    "# earth's radius in km\n",
    "R = 6371\n",
    "\n",
    "def deg_to_rad(degrees):\n",
    "    return degrees * (np.pi/180)\n",
    "\n",
    "# to calc distance between two points using the haversine formula\n",
    "def distcalculate(lat1, lon1, lat2, lon2):\n",
    "    d_lat = deg_to_rad(lat2-lat1)\n",
    "    d_lon = deg_to_rad(lon2-lon1)\n",
    "    a = np.sin(d_lat/2)**2 + np.cos(deg_to_rad(lat1)) * np.cos(deg_to_rad(lat2)) * np.sin(d_lon/2)**2\n",
    "    c = 2 * np.arctan2(np.sqrt(a), np.sqrt(1-a))\n",
    "    return R * c\n",
    "\n",
    "data['distance'] = np.nan\n",
    "\n",
    "for i in range(len(data)):\n",
    "    data.loc[i, 'distance'] = distcalculate(data.loc[i, 'Restaurant_latitude'], \n",
    "                                        data.loc[i, 'Restaurant_longitude'], \n",
    "                                        data.loc[i, 'Delivery_location_latitude'], \n",
    "                                        data.loc[i, 'Delivery_location_longitude'])\n",
    "\n",
    "data.to_csv(\"./dataset/food_delivery_time.csv\", index=False)\n"
   ]
  },
  {
   "cell_type": "code",
   "execution_count": 3,
   "id": "dc04a784",
   "metadata": {},
   "outputs": [
    {
     "name": "stdout",
     "output_type": "stream",
     "text": [
      "<class 'pandas.core.frame.DataFrame'>\n",
      "RangeIndex: 40190 entries, 0 to 40189\n",
      "Data columns (total 21 columns):\n",
      " #   Column                       Non-Null Count  Dtype  \n",
      "---  ------                       --------------  -----  \n",
      " 0   ID                           40190 non-null  object \n",
      " 1   Delivery_person_ID           40190 non-null  object \n",
      " 2   Delivery_person_Age          40190 non-null  int64  \n",
      " 3   Delivery_person_Ratings      40190 non-null  float64\n",
      " 4   Restaurant_latitude          40190 non-null  float64\n",
      " 5   Restaurant_longitude         40190 non-null  float64\n",
      " 6   Delivery_location_latitude   40190 non-null  float64\n",
      " 7   Delivery_location_longitude  40190 non-null  float64\n",
      " 8   Order_Date                   40190 non-null  object \n",
      " 9   Time_Orderd                  40109 non-null  object \n",
      " 10  Time_Order_picked            40190 non-null  object \n",
      " 11  Weatherconditions            40190 non-null  object \n",
      " 12  Road_traffic_density         40109 non-null  object \n",
      " 13  Vehicle_condition            40190 non-null  int64  \n",
      " 14  Type_of_order                40190 non-null  object \n",
      " 15  Type_of_vehicle              40190 non-null  object \n",
      " 16  multiple_deliveries          39344 non-null  float64\n",
      " 17  Festival                     39986 non-null  object \n",
      " 18  City                         39138 non-null  object \n",
      " 19  Time_taken(min)              40190 non-null  int64  \n",
      " 20  distance                     40190 non-null  float64\n",
      "dtypes: float64(7), int64(3), object(11)\n",
      "memory usage: 6.4+ MB\n",
      "None\n"
     ]
    }
   ],
   "source": [
    "print(data.info())"
   ]
  }
 ],
 "metadata": {
  "kernelspec": {
   "display_name": "Python 3",
   "language": "python",
   "name": "python3"
  },
  "language_info": {
   "codemirror_mode": {
    "name": "ipython",
    "version": 3
   },
   "file_extension": ".py",
   "mimetype": "text/x-python",
   "name": "python",
   "nbconvert_exporter": "python",
   "pygments_lexer": "ipython3",
   "version": "3.13.8"
  }
 },
 "nbformat": 4,
 "nbformat_minor": 5
}
